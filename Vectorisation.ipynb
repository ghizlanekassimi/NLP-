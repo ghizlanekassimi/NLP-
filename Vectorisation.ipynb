{
  "nbformat": 4,
  "nbformat_minor": 0,
  "metadata": {
    "colab": {
      "provenance": []
    },
    "kernelspec": {
      "name": "python3",
      "display_name": "Python 3"
    },
    "language_info": {
      "name": "python"
    }
  },
  "cells": [
    {
      "cell_type": "code",
      "execution_count": null,
      "metadata": {
        "id": "qC1KP49TRL8V"
      },
      "outputs": [],
      "source": [
        "import numpy as np\n",
        "import pandas as pd"
      ]
    },
    {
      "cell_type": "code",
      "source": [
        "\n",
        "with open('text', 'r') as file:\n",
        "    text = file.read()\n",
        "\n",
        "print(text)\n"
      ],
      "metadata": {
        "colab": {
          "base_uri": "https://localhost:8080/"
        },
        "id": "aDQhfjxVR52p",
        "outputId": "6b734b4b-dc14-4e5c-a238-7999c0e37f70"
      },
      "execution_count": null,
      "outputs": [
        {
          "output_type": "stream",
          "name": "stdout",
          "text": [
            "**Morocco and Marrakech: A Tapestry of Tradition and Modernity** Morocco, located at the crossroads of Europe and Africa, is a country drenched in history, mystery, and cultural richness. A testament to the ancient civilizations that once flourished here, this North African kingdom boasts a unique blend of Arab, Berber, and European influences. At the heart of Morocco's rich tapestry lies Marrakech, one of its four imperial cities and a vibrant epicenter of tradition and modernity. **Geographical Significance** Morocco is bordered by the Atlantic Ocean to the west, the Mediterranean Sea to the north, Algeria to the east and southeast, and the vast Sahara desert to the south. Its strategic location has historically made it a sought-after territory and a melting pot of cultures, religions, and trade routes. **Marrakech: The Red City** Marrakech, often referred to as \"The Red City\" due to its distinctive red-hued buildings, stands against the backdrop of the snow-capped Atlas Mountains. Established in the 11th century, it has remained a crucial political, economic, and cultural center of Morocco. **Journey through the Medina** Marrakech's old town, the Medina, is a UNESCO World Heritage site and a labyrinthine maze of narrow alleys, bustling souks, and historical landmarks. The Djemaa el-Fna Square lies at the heart of the Medina and comes alive every evening with storytellers, musicians, snake charmers, and food stalls offering tantalizing Moroccan delicacies. **Palaces and Gardens** The city is also home to grand palaces like the Bahia Palace, showcasing intricate Islamic architecture, and the Saadian Tombs, remnants of the Saadian dynasty. The Majorelle Garden, restored by the fashion designer Yves Saint Laurent, is a tranquil oasis of cacti, palm trees, and cobalt blue accents. **Modern Marrakech** While tradition and history permeate Marrakech, the city is not averse to the modern world. Gueliz, the new town, is brimming with contemporary art galleries, stylish cafes, and chic boutiques, offering a stark contrast to the ancient Medina. **Moroccan Cuisine** No journey through Morocco and Marrakech would be complete without indulging in the local cuisine. Tagines, couscous, and pastilla are just a few of the many dishes that combine a plethora of flavors and spices like saffron, cumin, and mint. Paired with Moroccan mint tea, the culinary experience is truly unparalleled. **In Conclusion** Morocco, with Marrakech at its heart, offers travelers an unparalleled journey through time. The convergence of history, culture, architecture, and gastronomy makes it an enthralling destination for those seeking both adventure and reflection. As the Moroccan proverb goes, \"He who does not travel does not know the value of men.\" In the case of Morocco and Marrakech, it's not just the value of men, but also the value of time, tradition, and tales that have spanned centuries.\n"
          ]
        }
      ]
    },
    {
      "cell_type": "markdown",
      "source": [
        "**1- Extraire la représentation vectorielle d'un mot**"
      ],
      "metadata": {
        "id": "vZ2nz_G-Sdkb"
      }
    },
    {
      "cell_type": "markdown",
      "source": [
        "*using word2vec*"
      ],
      "metadata": {
        "id": "Tt6tNpRiV2RE"
      }
    },
    {
      "cell_type": "code",
      "source": [
        "import nltk\n",
        "nltk.download('punkt')\n",
        "from gensim.models import Word2Vec\n",
        "from nltk.tokenize import word_tokenize\n",
        "\n",
        "tokens = word_tokenize(text)\n",
        "\n",
        "model = Word2Vec([tokens], vector_size=100, window=5, min_count=1, sg=0)\n",
        "\n",
        "word_vector = model.wv[\"Morocco\"]\n",
        "\n",
        "print(\"Vector for the word 'Morocco':\")\n",
        "print(word_vector)"
      ],
      "metadata": {
        "colab": {
          "base_uri": "https://localhost:8080/"
        },
        "id": "8QzOtIn_V5ai",
        "outputId": "e5d3d6ee-4885-443c-8a7d-3eb62b891030"
      },
      "execution_count": null,
      "outputs": [
        {
          "output_type": "stream",
          "name": "stderr",
          "text": [
            "[nltk_data] Downloading package punkt to /root/nltk_data...\n",
            "[nltk_data]   Unzipping tokenizers/punkt.zip.\n"
          ]
        },
        {
          "output_type": "stream",
          "name": "stdout",
          "text": [
            "Vector for the word 'Morocco':\n",
            "[ 6.8590925e-03 -1.2725699e-03  7.9808179e-03 -9.4389217e-03\n",
            " -8.0052614e-03 -7.0861001e-03 -3.7307185e-03  5.7127508e-03\n",
            " -4.1403389e-03 -8.4634488e-03  8.4092468e-03 -4.0300917e-03\n",
            "  8.4563764e-03 -4.7704265e-03  3.8227399e-03  4.6792347e-03\n",
            "  2.5808944e-03 -3.1629957e-03  2.6084336e-03 -8.9178262e-03\n",
            " -2.7471278e-03 -2.6657903e-03  7.5842938e-03 -3.5345475e-03\n",
            " -6.6507421e-03  4.3580327e-03 -5.0421915e-04 -3.7881115e-03\n",
            "  6.5073920e-03  3.8052057e-03 -3.5858960e-03  7.7155541e-04\n",
            "  9.4217518e-03  7.4479454e-03  6.3049519e-03  5.0228555e-03\n",
            "  2.5338272e-03 -2.2006859e-03 -6.6153584e-03 -7.7864749e-04\n",
            " -1.5407366e-03 -8.6960813e-04 -6.5454398e-03  7.4980794e-03\n",
            " -6.2551722e-03 -7.5072912e-03 -2.7598373e-03 -1.4704730e-03\n",
            " -7.3751719e-03  6.9069467e-04 -5.0693154e-03 -1.3805410e-03\n",
            " -7.2659254e-03  2.0302343e-03  3.0627137e-03  8.1574253e-05\n",
            " -5.4116230e-03 -1.8373136e-03  6.7632217e-03  3.8914585e-03\n",
            " -8.7982202e-03 -3.5494699e-03  2.5027266e-03  1.8461322e-03\n",
            " -9.8461136e-03  4.7292523e-03 -8.4001245e-03 -6.9127013e-03\n",
            "  2.8777209e-03 -3.0948611e-03  3.3562267e-03  9.1556348e-03\n",
            " -3.3213855e-03  9.2789680e-03  1.9771131e-03  1.0112285e-02\n",
            "  5.8224560e-03 -9.0938387e-03 -3.7000640e-03  6.5676086e-03\n",
            "  5.3778421e-03  8.7984968e-03  6.7258384e-03  8.3196815e-03\n",
            " -1.0152167e-02  4.1166525e-03 -4.7949445e-03  3.8785494e-03\n",
            "  6.3030915e-03  4.2530419e-03  7.9206480e-03  1.6922763e-03\n",
            " -1.2748261e-03  5.7095098e-03 -4.9069379e-03  3.0591353e-04\n",
            "  9.7728446e-03 -5.6526340e-03  4.0047197e-03 -8.1698494e-03]\n"
          ]
        }
      ]
    },
    {
      "cell_type": "markdown",
      "source": [
        "**2- Calculer la similarité entre deux mots**"
      ],
      "metadata": {
        "id": "ipCnhKWvU2ZH"
      }
    },
    {
      "cell_type": "markdown",
      "source": [
        "*On va calculer la similarité entre:*\n",
        "\n",
        "\n",
        "> modernity\n",
        "\n",
        " > Mediterranean\n",
        "\n",
        "\n"
      ],
      "metadata": {
        "id": "z1uwfuNfWoyx"
      }
    },
    {
      "cell_type": "code",
      "source": [
        "# Calcul de la similarité entre deux mots\n",
        "similarity = model.wv.similarity(\"Mediterranean\", \"modernity\")\n",
        "print(f\"Similarité entre 'Mediterranean ' et 'modernity': {similarity}\")\n"
      ],
      "metadata": {
        "colab": {
          "base_uri": "https://localhost:8080/"
        },
        "id": "OOF3WbUAWwbO",
        "outputId": "f739c096-cce1-47c8-a35b-7a690815104e"
      },
      "execution_count": null,
      "outputs": [
        {
          "output_type": "stream",
          "name": "stdout",
          "text": [
            "Similarité entre 'Mediterranean ' et 'modernity': -0.023446448147296906\n"
          ]
        }
      ]
    },
    {
      "cell_type": "markdown",
      "source": [
        "**3- Extraire les mots contextuels (les plus similaires) pour un mot central donné :**\n",
        "\n",
        "*modernity*"
      ],
      "metadata": {
        "id": "F8ND5LJQXjpa"
      }
    },
    {
      "cell_type": "code",
      "source": [
        "similar_words = model.wv.most_similar(\"modernity\", topn=5)\n",
        "print(\"Mots similaires à 'modernity':\")\n",
        "for word, score in similar_words:\n",
        "    print(f\"{word}: {score}\")\n"
      ],
      "metadata": {
        "colab": {
          "base_uri": "https://localhost:8080/"
        },
        "id": "bW1vAEfCXnqB",
        "outputId": "73d37088-8583-4a7d-ddf3-864d0974bf88"
      },
      "execution_count": null,
      "outputs": [
        {
          "output_type": "stream",
          "name": "stdout",
          "text": [
            "Mots similaires à 'modernity':\n",
            "palaces: 0.31192317605018616\n",
            "storytellers: 0.2845546305179596\n",
            "home: 0.2686600089073181\n",
            "new: 0.26000407338142395\n",
            "boutiques: 0.24605576694011688\n"
          ]
        }
      ]
    }
  ]
}
